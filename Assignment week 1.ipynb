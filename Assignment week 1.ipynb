{
  "nbformat": 4,
  "nbformat_minor": 0,
  "metadata": {
    "colab": {
      "provenance": []
    },
    "kernelspec": {
      "name": "python3",
      "display_name": "Python 3"
    },
    "language_info": {
      "name": "python"
    }
  },
  "cells": [
    {
      "cell_type": "markdown",
      "source": [
        "Program to accept the details of a student like name,roll number and mark and display it"
      ],
      "metadata": {
        "id": "w3JCqHcdsV5T"
      }
    },
    {
      "cell_type": "code",
      "source": [
        "Name=input(\"Enter the name:\")             # Enter the name of the student\n",
        "Roll_No=input(\"Enter the roll number:\")   # Enter the roll no of the student\n",
        "Mark=input(\"Enter the mark:\")             # Enter the mark of the student\n",
        "print(\"Name:\",Name)\n",
        "print(\"Roll No:\",Roll_No)\n",
        "print(\"Mark:\",Mark)"
      ],
      "metadata": {
        "colab": {
          "base_uri": "https://localhost:8080/"
        },
        "id": "yjTS3xecsloU",
        "outputId": "dcd66d9e-f9e1-4de9-810c-289c564c9b31"
      },
      "execution_count": null,
      "outputs": [
        {
          "output_type": "stream",
          "name": "stdout",
          "text": [
            "Enter the name:Ike\n",
            "Enter the roll number:45\n",
            "Enter the mark:34\n",
            "Name: Ike\n",
            "Roll No: 45\n",
            "Mark: 34\n"
          ]
        }
      ]
    },
    {
      "cell_type": "markdown",
      "source": [
        "Program to convert temperatures to and from celsius Fahrenheit"
      ],
      "metadata": {
        "id": "wqJolQj-tUFV"
      }
    },
    {
      "cell_type": "code",
      "source": [
        "f=int(input(\"Temperature in fahrenheit=\"))      # Get the input from the user\n",
        "C=int(5/9*(f-32))                               # calculate area\n",
        "print(\"Temperature in celsius=\",C)"
      ],
      "metadata": {
        "colab": {
          "base_uri": "https://localhost:8080/"
        },
        "id": "TCj6wFWquARQ",
        "outputId": "fb7aff56-8fcb-404d-b39b-fad9c9396b49"
      },
      "execution_count": null,
      "outputs": [
        {
          "output_type": "stream",
          "name": "stdout",
          "text": [
            "Temperature in fahrenheit=41\n",
            "Temperature in celsius= 5\n"
          ]
        }
      ]
    },
    {
      "cell_type": "markdown",
      "source": [
        "Program to accept two numbers from the user and display its product"
      ],
      "metadata": {
        "id": "M3yaho_5vHij"
      }
    },
    {
      "cell_type": "code",
      "source": [
        "a=int(input(\"Enter a number:\"))         # Enter a number\n",
        "b=int(input(\"Enter another number:\"))   # Enter another number from a user\n",
        "c=a*b                                   # calculate area\n",
        "print(\"The product of given number is:\",c)\n"
      ],
      "metadata": {
        "colab": {
          "base_uri": "https://localhost:8080/"
        },
        "id": "YIobeLhOvU53",
        "outputId": "92f6d10b-1268-4d90-f7cb-311acbe8385d"
      },
      "execution_count": null,
      "outputs": [
        {
          "output_type": "stream",
          "name": "stdout",
          "text": [
            "Enter a number:5\n",
            "Enter another number:6\n",
            "The product of given number is: 30\n"
          ]
        }
      ]
    },
    {
      "cell_type": "markdown",
      "source": [
        "# Program to accept a string \"Learn Python by Developing a Website\" and display the string like \"Learn**Python**by Developing a**Website**\"\n"
      ],
      "metadata": {
        "id": "Lt96v7HEwDHt"
      }
    },
    {
      "cell_type": "code",
      "source": [
        "\n",
        "A = 'Learn Python by Developing a Website'\n",
        "C = []\n",
        "C= A.split(' ')\n",
        "\n",
        "START = '\\033[1m'\n",
        "END = '\\033[0m'\n",
        "\n",
        "C[0]+START +C[1]+END+C[2]+' '+C[3]+' '+C[4]+START+C[5]+END\n",
        "\n"
      ],
      "metadata": {
        "id": "kHiyusAyws1x",
        "colab": {
          "base_uri": "https://localhost:8080/",
          "height": 36
        },
        "outputId": "e9adaff3-91a9-4347-aac4-c8fb29e589a6"
      },
      "execution_count": null,
      "outputs": [
        {
          "output_type": "execute_result",
          "data": {
            "text/plain": [
              "'Learn\\x1b[1mPython\\x1b[0mby Developing a\\x1b[1mWebsite\\x1b[0m'"
            ],
            "application/vnd.google.colaboratory.intrinsic+json": {
              "type": "string"
            }
          },
          "metadata": {},
          "execution_count": 27
        }
      ]
    },
    {
      "cell_type": "markdown",
      "source": [
        "Program to accept the radius of a circle and display its area"
      ],
      "metadata": {
        "id": "xDxI6IYsxVKp"
      }
    },
    {
      "cell_type": "code",
      "source": [
        "import math\n",
        "radius=int(input(\"Enter the radius of circle:\"))   # Enter the radius of the circle\n",
        "area=math.pi*radius**2                             # calculate area\n",
        "print(\"The area of circle is:\",area)"
      ],
      "metadata": {
        "colab": {
          "base_uri": "https://localhost:8080/"
        },
        "id": "Sxs2rpOBxvMH",
        "outputId": "c0faadab-c2eb-4910-f83a-ece38a8b9c5b"
      },
      "execution_count": null,
      "outputs": [
        {
          "output_type": "stream",
          "name": "stdout",
          "text": [
            "Enter the radius of circle:4\n",
            "The area of circle is: 50.26548245743669\n"
          ]
        }
      ]
    },
    {
      "cell_type": "markdown",
      "source": [
        "Program to insert a number to any position in a list"
      ],
      "metadata": {
        "id": "JkmNsp5OyVql"
      }
    },
    {
      "cell_type": "code",
      "source": [
        "list=[22,44,55,77]\n",
        "n=int(input('Enter the position to insert'))\n",
        "m=int(input('Enter the number to insert'))\n",
        "list.insert(n-1,m)\n",
        "list"
      ],
      "metadata": {
        "colab": {
          "base_uri": "https://localhost:8080/"
        },
        "id": "z8f45WHCygoJ",
        "outputId": "c8a3d421-0fc4-488b-c11d-055d4e494deb"
      },
      "execution_count": null,
      "outputs": [
        {
          "name": "stdout",
          "output_type": "stream",
          "text": [
            "Enter the position to insert3\n",
            "Enter the number to insert65\n"
          ]
        },
        {
          "output_type": "execute_result",
          "data": {
            "text/plain": [
              "[22, 44, 65, 55, 77]"
            ]
          },
          "metadata": {},
          "execution_count": 18
        }
      ]
    },
    {
      "cell_type": "markdown",
      "source": [],
      "metadata": {
        "id": "b8PeXHIby0-N"
      }
    },
    {
      "cell_type": "markdown",
      "source": [
        "Program to rename a key city to a location"
      ],
      "metadata": {
        "id": "Wc-xETC1y9cf"
      }
    },
    {
      "cell_type": "code",
      "source": [
        "sample_dict={\"name\":\"John\",\"age\":5,\"salary\":8000,\"city\":\"New york\"}\n",
        "sample_dict[\"location\"]=sample_dict.pop(\"city\")\n",
        "sample_dict"
      ],
      "metadata": {
        "colab": {
          "base_uri": "https://localhost:8080/"
        },
        "id": "66aSJB5VzNRF",
        "outputId": "70619207-abac-4193-d545-6f6faf5134cc"
      },
      "execution_count": null,
      "outputs": [
        {
          "output_type": "execute_result",
          "data": {
            "text/plain": [
              "{'name': 'John', 'age': 5, 'salary': 8000, 'location': 'New york'}"
            ]
          },
          "metadata": {},
          "execution_count": 10
        }
      ]
    },
    {
      "cell_type": "markdown",
      "source": [
        "Program to change Brad's salary to 8500"
      ],
      "metadata": {
        "id": "qv1hVCfHzXX5"
      }
    },
    {
      "cell_type": "code",
      "source": [
        "sample_dict={'emp1':{'name':'john','salary':7500},'emp2':{'name':'Emma','salary':8000},'emp3':{'name':'Brad','salary':500}}\n",
        "sample_dict['emp3']['salary']=8500\n",
        "sample_dict"
      ],
      "metadata": {
        "colab": {
          "base_uri": "https://localhost:8080/"
        },
        "id": "HCpkSM4szqmk",
        "outputId": "109daf11-4b05-4d8e-f1e0-138a5bdc032d"
      },
      "execution_count": null,
      "outputs": [
        {
          "output_type": "execute_result",
          "data": {
            "text/plain": [
              "{'emp1': {'name': 'john', 'salary': 7500},\n",
              " 'emp2': {'name': 'Emma', 'salary': 8000},\n",
              " 'emp3': {'name': 'Brad', 'salary': 8500}}"
            ]
          },
          "metadata": {},
          "execution_count": 11
        }
      ]
    },
    {
      "cell_type": "markdown",
      "source": [
        "Program to copy elements 43 and 54 from the following tuple into a new tuple"
      ],
      "metadata": {
        "id": "zOmLI0X-z22z"
      }
    },
    {
      "cell_type": "code",
      "source": [
        "tuple1=(10,20,43,54,56,68)\n",
        "tup=tuple1[2:4]\n",
        "print(tup)"
      ],
      "metadata": {
        "id": "Lzyd1mAm0Gft",
        "colab": {
          "base_uri": "https://localhost:8080/"
        },
        "outputId": "c17e894f-0076-4b2f-b582-bd79705372eb"
      },
      "execution_count": null,
      "outputs": [
        {
          "output_type": "stream",
          "name": "stdout",
          "text": [
            "(43, 54)\n"
          ]
        }
      ]
    },
    {
      "cell_type": "markdown",
      "source": [
        "Counts the number of occurrences of item 50 from a tuple"
      ],
      "metadata": {
        "id": "3kUdNt4q0MSK"
      }
    },
    {
      "cell_type": "code",
      "source": [
        "tuple1=(50,10,60,70,50,83,567,50,81)\n",
        "tuple1.count(50)"
      ],
      "metadata": {
        "colab": {
          "base_uri": "https://localhost:8080/"
        },
        "id": "pyfefzxL0cFp",
        "outputId": "b4897603-5342-466d-818c-509ffda42c21"
      },
      "execution_count": null,
      "outputs": [
        {
          "output_type": "execute_result",
          "data": {
            "text/plain": [
              "3"
            ]
          },
          "metadata": {},
          "execution_count": 12
        }
      ]
    }
  ]
}