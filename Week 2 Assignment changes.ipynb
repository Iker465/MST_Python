{
 "cells": [
  {
   "cell_type": "code",
   "execution_count": 5,
   "id": "2004e42e",
   "metadata": {},
   "outputs": [
    {
     "name": "stdout",
     "output_type": "stream",
     "text": [
      "Enter a number between 1 and 10\n",
      "12\n",
      "\n",
      "Number not between 1 and 10. Please try again\n",
      "\n",
      "Enter a number between 1 and 10\n",
      "8\n",
      "\n",
      "\"Too high! Try again.\"\n",
      "Enter a number between 1 and 10\n",
      "5\n",
      "\n",
      "\"Too high! Try again.\"\n",
      "Enter a number between 1 and 10\n",
      "2\n",
      "\n",
      "\"Too low! Try again.\"\n",
      "Enter a number between 1 and 10\n",
      "3\n",
      "\n",
      "\"Congratulations! You guessed the number correctly!\"\n"
     ]
    }
   ],
   "source": [
    "secretNumber = 3\n",
    "flag = 0\n",
    "while (flag == 0):\n",
    "    guess = int(input(\"Enter a number between 1 and 10\\n\"))\n",
    "    if(guess >= 1 and guess <= 10):\n",
    "        if (guess == secretNumber):\n",
    "            flag = 1\n",
    "            print( \"\\n\\\"Congratulations! You guessed the number correctly!\\\"\")\n",
    "            break\n",
    "        elif (guess > secretNumber):\n",
    "            print( \"\\n\\\"Too high! Try again.\\\"\")\n",
    "        else:\n",
    "            print( \"\\n\\\"Too low! Try again.\\\"\")\n",
    "    else:\n",
    "        print(\"\\nNumber not between 1 and 10. Please try again\\n\")"
   ]
  },
  {
   "cell_type": "code",
   "execution_count": 4,
   "id": "85b626ce",
   "metadata": {
    "scrolled": true
   },
   "outputs": [
    {
     "name": "stdout",
     "output_type": "stream",
     "text": [
      "Enter the value of N\n",
      "4\n",
      "\n",
      "Factorial of 4 is 24\n",
      "\n",
      "Enter the minimum dimension \"L\"\n",
      "8\n",
      "\n",
      "Enter width \"W\" of the photo\n",
      "2\n",
      "\n",
      "Enter height \"H\" of the photo\n",
      "4\n",
      "\n",
      "UPLOAD ANOTHER\n",
      "\n",
      "Enter width \"W\" of the photo\n",
      "8\n",
      "\n",
      "Enter height \"H\" of the photo\n",
      "8\n",
      "\n",
      "ACCEPTED\n",
      "\n",
      "Enter width \"W\" of the photo\n",
      "9\n",
      "\n",
      "Enter height \"H\" of the photo\n",
      "10\n",
      "\n",
      "CROP IT\n",
      "\n",
      "Enter width \"W\" of the photo\n",
      "8\n",
      "\n",
      "Enter height \"H\" of the photo\n",
      "4\n",
      "\n",
      "UPLOAD ANOTHER\n"
     ]
    }
   ],
   "source": [
    "N = int(input(\"Enter the value of N\\n\"))\n",
    "fact = 1\n",
    "for i in range(1,N+1):\n",
    "    fact = fact*i\n",
    "print(\"\\nFactorial of\",N,\"is\",fact)\n",
    "L = int(input(\"\\nEnter the minimum dimension \\\"L\\\"\\n\"))\n",
    "for i in range(N):\n",
    "    W = int(input(\"\\nEnter width \\\"W\\\" of the photo\\n\"))\n",
    "    H = int(input(\"\\nEnter height \\\"H\\\" of the photo\\n\"))\n",
    "    if (W < L or H < L):\n",
    "        print(\"\\nUPLOAD ANOTHER\")\n",
    "    elif (W == L and H == L):\n",
    "        print(\"\\nACCEPTED\")\n",
    "    else:\n",
    "        print(\"\\nCROP IT\")"
   ]
  },
  {
   "cell_type": "code",
   "execution_count": null,
   "id": "15e2b170",
   "metadata": {},
   "outputs": [],
   "source": [
    " "
   ]
  },
  {
   "cell_type": "code",
   "execution_count": null,
   "id": "5e31b0cb",
   "metadata": {},
   "outputs": [],
   "source": []
  }
 ],
 "metadata": {
  "kernelspec": {
   "display_name": "Python 3 (ipykernel)",
   "language": "python",
   "name": "python3"
  },
  "language_info": {
   "codemirror_mode": {
    "name": "ipython",
    "version": 3
   },
   "file_extension": ".py",
   "mimetype": "text/x-python",
   "name": "python",
   "nbconvert_exporter": "python",
   "pygments_lexer": "ipython3",
   "version": "3.10.9"
  }
 },
 "nbformat": 4,
 "nbformat_minor": 5
}
